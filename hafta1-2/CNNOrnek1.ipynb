{
 "cells": [
  {
   "cell_type": "code",
   "execution_count": 4,
   "id": "alike-mounting",
   "metadata": {},
   "outputs": [
    {
     "data": {
      "text/plain": [
       "'C:\\\\Users\\\\Turan\\\\Desktop\\\\DerinOgrenme\\\\GarbageDataset\\\\Garbage classification\\\\Garbage classification'"
      ]
     },
     "execution_count": 4,
     "metadata": {},
     "output_type": "execute_result"
    }
   ],
   "source": [
    "data_path = \"C:\\\\Users\\\\Turan\\\\Desktop\\\\DerinOgrenme\\\\GarbageDataset\\\\Garbage classification\\Garbage classification\"\n",
    "data_path #Dosya yolu"
   ]
  },
  {
   "cell_type": "code",
   "execution_count": 5,
   "id": "violent-charter",
   "metadata": {},
   "outputs": [
    {
     "data": {
      "text/plain": [
       "['cardboard', 'glass', 'metal', 'paper', 'plastic', 'trash']"
      ]
     },
     "execution_count": 5,
     "metadata": {},
     "output_type": "execute_result"
    }
   ],
   "source": [
    "import os \n",
    "os.listdir(os.path.join(os.getcwd(),data_path))#Etiketleri okuma"
   ]
  },
  {
   "cell_type": "code",
   "execution_count": 6,
   "id": "single-comment",
   "metadata": {},
   "outputs": [],
   "source": [
    "batch_size=20"
   ]
  },
  {
   "cell_type": "code",
   "execution_count": 7,
   "id": "lucky-teacher",
   "metadata": {},
   "outputs": [
    {
     "name": "stdout",
     "output_type": "stream",
     "text": [
      "Found 2276 images belonging to 6 classes.\n",
      "Found 251 images belonging to 6 classes.\n"
     ]
    }
   ],
   "source": [
    "from keras.preprocessing.image import ImageDataGenerator\n",
    "\n",
    "# Verilerin Ayrılması\n",
    "train=ImageDataGenerator(horizontal_flip=True, \n",
    "                         vertical_flip=True, \n",
    "                         rescale=1./255, \n",
    "                         shear_range = 0.1, \n",
    "                         zoom_range = 0.1, \n",
    "                         width_shift_range = 0.1, \n",
    "                         height_shift_range = 0.1,\n",
    "                         validation_split=0.1)\n",
    "\n",
    "test=ImageDataGenerator(rescale=1./255,validation_split=0.1)\n",
    "\n",
    "train_generator=train.flow_from_directory(data_path,target_size=(512,384),batch_size=batch_size,class_mode='categorical',subset='training')\n",
    "\n",
    "test_generator=test.flow_from_directory(data_path,target_size=(512,384),batch_size=batch_size,class_mode='categorical',subset='validation')"
   ]
  },
  {
   "cell_type": "code",
   "execution_count": 8,
   "id": "narrative-headquarters",
   "metadata": {},
   "outputs": [
    {
     "name": "stdout",
     "output_type": "stream",
     "text": [
      "{0: 'cardboard', 1: 'glass', 2: 'metal', 3: 'paper', 4: 'plastic', 5: 'trash'}\n"
     ]
    }
   ],
   "source": [
    "#Verilerin etiketlenmesi\n",
    "labels = (train_generator.class_indices)\n",
    "labels = dict((v,k) for k,v in labels.items())\n",
    "print(labels)"
   ]
  },
  {
   "cell_type": "code",
   "execution_count": 9,
   "id": "horizontal-minority",
   "metadata": {},
   "outputs": [
    {
     "name": "stdout",
     "output_type": "stream",
     "text": [
      "Model: \"sequential\"\n",
      "_________________________________________________________________\n",
      "Layer (type)                 Output Shape              Param #   \n",
      "=================================================================\n",
      "conv2d (Conv2D)              (None, 512, 384, 32)      896       \n",
      "_________________________________________________________________\n",
      "max_pooling2d (MaxPooling2D) (None, 256, 192, 32)      0         \n",
      "_________________________________________________________________\n",
      "conv2d_1 (Conv2D)            (None, 256, 192, 64)      18496     \n",
      "_________________________________________________________________\n",
      "max_pooling2d_1 (MaxPooling2 (None, 128, 96, 64)       0         \n",
      "_________________________________________________________________\n",
      "conv2d_2 (Conv2D)            (None, 128, 96, 238)      137326    \n",
      "_________________________________________________________________\n",
      "max_pooling2d_2 (MaxPooling2 (None, 64, 48, 238)       0         \n",
      "_________________________________________________________________\n",
      "flatten (Flatten)            (None, 731136)            0         \n",
      "_________________________________________________________________\n",
      "dense (Dense)                (None, 64)                46792768  \n",
      "_________________________________________________________________\n",
      "dropout (Dropout)            (None, 64)                0         \n",
      "_________________________________________________________________\n",
      "dense_1 (Dense)              (None, 6)                 390       \n",
      "=================================================================\n",
      "Total params: 46,949,876\n",
      "Trainable params: 46,949,876\n",
      "Non-trainable params: 0\n",
      "_________________________________________________________________\n"
     ]
    }
   ],
   "source": [
    "from tensorflow.keras import layers#Katman işlemlerinin yapılmasını sağlar.\n",
    "from tensorflow.keras import models#Model işlemlerinin yapılmasını sağlar.\n",
    "from tensorflow.keras.layers import Conv2D, Flatten, MaxPooling2D,Dense,Dropout\n",
    "#Konvolüsyon,Flatten(Düzleştirme),Havuzlama(MAX),Dropout ve Normal katmanların kullanımını sağlar.\n",
    "\n",
    "model = models.Sequential() #Boş bir model oluşturuldu.\n",
    "   \n",
    "model.add(Conv2D(32,(3,3), #Filtre 3x3\n",
    "                 padding='same', #Doldurma işlemi sonucu boyutu değiştirmez.\n",
    "                 input_shape=(512,384,3),#Görüntünün giriş boyutu ve kanal sayısı(512x384,3)\n",
    "                 activation='relu'))#Aktivasyon fonksiyonu\n",
    "\n",
    "model.add(MaxPooling2D(pool_size=(2,2))) #Havuzlama katmanı, 2x2'lik filtre uygulanır.\n",
    "\n",
    "model.add(Conv2D(64,(3,3), padding='same', activation='relu'))\n",
    "model.add(MaxPooling2D(pool_size=(2,2))) \n",
    "model.add(Conv2D(238,(3,3), padding='same', activation='relu'))\n",
    "model.add(MaxPooling2D(pool_size=(2,2))) \n",
    "\n",
    "model.add(Flatten())#Düzleştirme katmanı, veriyi tek bir vektör haline getirir.\n",
    "\n",
    "#Tam bağlı katman\n",
    "model.add(Dense(64,activation='relu'))\n",
    "model.add(Dropout(0.5))\n",
    "model.add(Dense(6,activation='softmax'))#Çıkış katmanı, ikiden fazla sınıf olduğunda genelde softmax kullanılır.\n",
    "#Son katmandaki nöron sayısı istenilen sınıflandırma sayısına eşit olmalıdır.\n",
    "\n",
    "model.summary()#Modelin yapısını ekrana yazdırır."
   ]
  },
  {
   "cell_type": "code",
   "execution_count": 10,
   "id": "secondary-scholarship",
   "metadata": {},
   "outputs": [],
   "source": [
    "from tensorflow.keras import optimizers #Optimizasyon fonksiyonlarının bulunduğu kütüphane.\n",
    "\n",
    "model.compile(#Modelin derlendiği bölüm.\n",
    "    loss='categorical_crossentropy', #Kayıp fonksiyonu\n",
    "    optimizer='adam', #Optimizyon fonksiyonu\n",
    "    metrics=['accuracy']) #Doğruluk ölçütü-değeri"
   ]
  },
  {
   "cell_type": "code",
   "execution_count": 11,
   "id": "breathing-lemon",
   "metadata": {},
   "outputs": [],
   "source": [
    "model_path=\"garbage_cnn\" "
   ]
  },
  {
   "cell_type": "code",
   "execution_count": 12,
   "id": "minute-zoning",
   "metadata": {},
   "outputs": [],
   "source": [
    "num_epochs = 100 #İterasyon sayısı\n",
    "step_size_train=train_generator.n//train_generator.batch_size\n",
    "step_size_test =test_generator.n//test_generator.batch_size"
   ]
  },
  {
   "cell_type": "code",
   "execution_count": 13,
   "id": "italic-poland",
   "metadata": {},
   "outputs": [
    {
     "name": "stderr",
     "output_type": "stream",
     "text": [
      "C:\\Users\\Turan\\anaconda3\\envs\\tf\\lib\\site-packages\\tensorflow\\python\\keras\\engine\\training.py:1844: UserWarning: `Model.fit_generator` is deprecated and will be removed in a future version. Please use `Model.fit`, which supports generators.\n",
      "  warnings.warn('`Model.fit_generator` is deprecated and '\n"
     ]
    },
    {
     "name": "stdout",
     "output_type": "stream",
     "text": [
      "Epoch 1/100\n",
      "113/113 [==============================] - 146s 1s/step - loss: 5.1668 - accuracy: 0.1913 - val_loss: 1.6936 - val_accuracy: 0.2458\n",
      "Epoch 2/100\n",
      "113/113 [==============================] - 269s 2s/step - loss: 1.6932 - accuracy: 0.2619 - val_loss: 1.6250 - val_accuracy: 0.4208\n",
      "Epoch 3/100\n",
      "113/113 [==============================] - 299s 3s/step - loss: 1.6179 - accuracy: 0.3159 - val_loss: 1.5539 - val_accuracy: 0.3292\n",
      "Epoch 4/100\n",
      "113/113 [==============================] - 318s 3s/step - loss: 1.5413 - accuracy: 0.3394 - val_loss: 1.4903 - val_accuracy: 0.3833\n",
      "Epoch 5/100\n",
      "113/113 [==============================] - 86s 760ms/step - loss: 1.5439 - accuracy: 0.3559 - val_loss: 1.4671 - val_accuracy: 0.4083\n",
      "Epoch 6/100\n",
      "113/113 [==============================] - 90s 793ms/step - loss: 1.4961 - accuracy: 0.4064 - val_loss: 1.4065 - val_accuracy: 0.4250\n",
      "Epoch 7/100\n",
      "113/113 [==============================] - 85s 753ms/step - loss: 1.4382 - accuracy: 0.3826 - val_loss: 1.3936 - val_accuracy: 0.4333\n",
      "Epoch 8/100\n",
      "113/113 [==============================] - 84s 740ms/step - loss: 1.4531 - accuracy: 0.4246 - val_loss: 1.3418 - val_accuracy: 0.4833\n",
      "Epoch 9/100\n",
      "113/113 [==============================] - 87s 767ms/step - loss: 1.3435 - accuracy: 0.4455 - val_loss: 1.3717 - val_accuracy: 0.4250\n",
      "Epoch 10/100\n",
      "113/113 [==============================] - 85s 750ms/step - loss: 1.4077 - accuracy: 0.4448 - val_loss: 1.3227 - val_accuracy: 0.4792\n",
      "Epoch 11/100\n",
      "113/113 [==============================] - 85s 749ms/step - loss: 1.3660 - accuracy: 0.4440 - val_loss: 1.2615 - val_accuracy: 0.4875\n",
      "Epoch 12/100\n",
      "113/113 [==============================] - 89s 785ms/step - loss: 1.3584 - accuracy: 0.4600 - val_loss: 1.2529 - val_accuracy: 0.5250\n",
      "Epoch 13/100\n",
      "113/113 [==============================] - 95s 840ms/step - loss: 1.2916 - accuracy: 0.4620 - val_loss: 1.1939 - val_accuracy: 0.5333\n",
      "Epoch 14/100\n",
      "113/113 [==============================] - 90s 794ms/step - loss: 1.3045 - accuracy: 0.4778 - val_loss: 1.1991 - val_accuracy: 0.5250\n",
      "Epoch 15/100\n",
      "113/113 [==============================] - 87s 763ms/step - loss: 1.2095 - accuracy: 0.5188 - val_loss: 1.2273 - val_accuracy: 0.5042\n",
      "Epoch 16/100\n",
      "113/113 [==============================] - 87s 769ms/step - loss: 1.2728 - accuracy: 0.4770 - val_loss: 1.1831 - val_accuracy: 0.5667\n",
      "Epoch 17/100\n",
      "113/113 [==============================] - 89s 788ms/step - loss: 1.2428 - accuracy: 0.4971 - val_loss: 1.3490 - val_accuracy: 0.5042\n",
      "Epoch 18/100\n",
      "113/113 [==============================] - 160s 1s/step - loss: 1.2064 - accuracy: 0.5087 - val_loss: 1.2047 - val_accuracy: 0.5500\n",
      "Epoch 19/100\n",
      "113/113 [==============================] - 412s 4s/step - loss: 1.2199 - accuracy: 0.5240 - val_loss: 1.2415 - val_accuracy: 0.5208\n",
      "Epoch 20/100\n",
      "113/113 [==============================] - 155s 1s/step - loss: 1.2567 - accuracy: 0.5018 - val_loss: 1.1558 - val_accuracy: 0.5375\n",
      "Epoch 21/100\n",
      "113/113 [==============================] - 161s 1s/step - loss: 1.1953 - accuracy: 0.5490 - val_loss: 1.1734 - val_accuracy: 0.5667\n",
      "Epoch 22/100\n",
      "113/113 [==============================] - 160s 1s/step - loss: 1.2265 - accuracy: 0.5296 - val_loss: 1.2170 - val_accuracy: 0.5708\n",
      "Epoch 23/100\n",
      "113/113 [==============================] - 88s 778ms/step - loss: 1.1867 - accuracy: 0.5501 - val_loss: 1.1221 - val_accuracy: 0.5708\n",
      "Epoch 24/100\n",
      "113/113 [==============================] - 87s 771ms/step - loss: 1.2146 - accuracy: 0.5399 - val_loss: 1.1053 - val_accuracy: 0.5875\n",
      "Epoch 25/100\n",
      "113/113 [==============================] - 90s 795ms/step - loss: 1.1583 - accuracy: 0.5494 - val_loss: 1.1391 - val_accuracy: 0.5458\n",
      "Epoch 26/100\n",
      "113/113 [==============================] - 92s 811ms/step - loss: 1.1654 - accuracy: 0.5560 - val_loss: 1.0307 - val_accuracy: 0.6125\n",
      "Epoch 27/100\n",
      "113/113 [==============================] - 91s 803ms/step - loss: 1.1495 - accuracy: 0.5655 - val_loss: 1.2045 - val_accuracy: 0.5750\n",
      "Epoch 28/100\n",
      "113/113 [==============================] - 92s 807ms/step - loss: 1.1131 - accuracy: 0.5747 - val_loss: 1.0286 - val_accuracy: 0.6083\n",
      "Epoch 29/100\n",
      "113/113 [==============================] - 92s 811ms/step - loss: 1.1297 - accuracy: 0.5529 - val_loss: 1.1248 - val_accuracy: 0.5917\n",
      "Epoch 30/100\n",
      "113/113 [==============================] - 92s 811ms/step - loss: 1.0862 - accuracy: 0.5842 - val_loss: 1.0687 - val_accuracy: 0.5792\n",
      "Epoch 31/100\n",
      "113/113 [==============================] - 89s 780ms/step - loss: 1.0827 - accuracy: 0.6135 - val_loss: 1.0658 - val_accuracy: 0.6292\n",
      "Epoch 32/100\n",
      "113/113 [==============================] - 88s 774ms/step - loss: 1.0945 - accuracy: 0.5753 - val_loss: 1.0268 - val_accuracy: 0.6333\n",
      "Epoch 33/100\n",
      "113/113 [==============================] - 89s 785ms/step - loss: 1.0957 - accuracy: 0.5878 - val_loss: 1.0167 - val_accuracy: 0.6417\n",
      "Epoch 34/100\n",
      "113/113 [==============================] - 91s 801ms/step - loss: 1.0690 - accuracy: 0.5674 - val_loss: 1.0103 - val_accuracy: 0.6375\n",
      "Epoch 35/100\n",
      "113/113 [==============================] - 92s 808ms/step - loss: 1.0841 - accuracy: 0.5820 - val_loss: 1.0135 - val_accuracy: 0.6042\n",
      "Epoch 36/100\n",
      "113/113 [==============================] - 92s 812ms/step - loss: 1.0594 - accuracy: 0.5942 - val_loss: 0.9932 - val_accuracy: 0.6458\n",
      "Epoch 37/100\n",
      "113/113 [==============================] - 92s 808ms/step - loss: 1.0976 - accuracy: 0.5639 - val_loss: 0.9891 - val_accuracy: 0.6042\n",
      "Epoch 38/100\n",
      "113/113 [==============================] - 92s 814ms/step - loss: 1.0506 - accuracy: 0.5929 - val_loss: 1.0573 - val_accuracy: 0.6000\n",
      "Epoch 39/100\n",
      "113/113 [==============================] - 92s 812ms/step - loss: 1.0886 - accuracy: 0.5768 - val_loss: 0.9597 - val_accuracy: 0.6292\n",
      "Epoch 40/100\n",
      "113/113 [==============================] - 92s 812ms/step - loss: 1.0143 - accuracy: 0.6296 - val_loss: 1.1030 - val_accuracy: 0.5500\n",
      "Epoch 41/100\n",
      "113/113 [==============================] - 92s 813ms/step - loss: 1.0281 - accuracy: 0.6155 - val_loss: 0.9885 - val_accuracy: 0.6167\n",
      "Epoch 42/100\n",
      "113/113 [==============================] - 92s 810ms/step - loss: 0.9580 - accuracy: 0.6433 - val_loss: 1.0986 - val_accuracy: 0.6000\n",
      "Epoch 43/100\n",
      "113/113 [==============================] - 92s 811ms/step - loss: 0.9727 - accuracy: 0.5942 - val_loss: 1.0400 - val_accuracy: 0.6458\n",
      "Epoch 44/100\n",
      "113/113 [==============================] - 92s 812ms/step - loss: 0.9981 - accuracy: 0.6141 - val_loss: 1.0616 - val_accuracy: 0.6250\n",
      "Epoch 45/100\n",
      "113/113 [==============================] - 92s 811ms/step - loss: 0.9756 - accuracy: 0.6194 - val_loss: 0.9522 - val_accuracy: 0.6250\n",
      "Epoch 46/100\n",
      "113/113 [==============================] - 92s 813ms/step - loss: 0.9415 - accuracy: 0.6544 - val_loss: 0.9710 - val_accuracy: 0.6417\n",
      "Epoch 47/100\n",
      "113/113 [==============================] - 92s 811ms/step - loss: 0.9918 - accuracy: 0.6317 - val_loss: 0.9209 - val_accuracy: 0.6458\n",
      "Epoch 48/100\n",
      "113/113 [==============================] - 92s 814ms/step - loss: 0.9671 - accuracy: 0.6250 - val_loss: 0.9931 - val_accuracy: 0.6167\n",
      "Epoch 49/100\n",
      "113/113 [==============================] - 93s 816ms/step - loss: 1.0072 - accuracy: 0.6187 - val_loss: 0.9376 - val_accuracy: 0.6250\n",
      "Epoch 50/100\n",
      "113/113 [==============================] - 91s 801ms/step - loss: 0.9316 - accuracy: 0.6398 - val_loss: 0.9812 - val_accuracy: 0.6500\n",
      "Epoch 51/100\n",
      "113/113 [==============================] - 96s 850ms/step - loss: 0.9932 - accuracy: 0.6155 - val_loss: 0.9782 - val_accuracy: 0.6083\n",
      "Epoch 52/100\n",
      "113/113 [==============================] - 98s 868ms/step - loss: 0.9172 - accuracy: 0.6588 - val_loss: 1.1348 - val_accuracy: 0.6000\n",
      "Epoch 53/100\n",
      "113/113 [==============================] - 97s 856ms/step - loss: 0.9675 - accuracy: 0.6610 - val_loss: 0.9206 - val_accuracy: 0.6833\n",
      "Epoch 54/100\n",
      "113/113 [==============================] - 97s 853ms/step - loss: 0.9231 - accuracy: 0.6580 - val_loss: 0.9717 - val_accuracy: 0.6458\n",
      "Epoch 55/100\n",
      "113/113 [==============================] - 85s 753ms/step - loss: 0.8688 - accuracy: 0.6787 - val_loss: 1.2126 - val_accuracy: 0.6250\n",
      "Epoch 56/100\n",
      "113/113 [==============================] - 85s 753ms/step - loss: 0.9057 - accuracy: 0.6680 - val_loss: 0.9005 - val_accuracy: 0.6625\n"
     ]
    },
    {
     "name": "stdout",
     "output_type": "stream",
     "text": [
      "Epoch 57/100\n",
      "113/113 [==============================] - 86s 756ms/step - loss: 0.8812 - accuracy: 0.6565 - val_loss: 0.8753 - val_accuracy: 0.6500\n",
      "Epoch 58/100\n",
      "113/113 [==============================] - 85s 750ms/step - loss: 0.9055 - accuracy: 0.6540 - val_loss: 0.8598 - val_accuracy: 0.6792\n",
      "Epoch 59/100\n",
      "113/113 [==============================] - 85s 751ms/step - loss: 0.9096 - accuracy: 0.6577 - val_loss: 0.9496 - val_accuracy: 0.6417\n",
      "Epoch 60/100\n",
      "113/113 [==============================] - 85s 751ms/step - loss: 0.8797 - accuracy: 0.6958 - val_loss: 0.9514 - val_accuracy: 0.6292\n",
      "Epoch 61/100\n",
      "113/113 [==============================] - 88s 779ms/step - loss: 0.8589 - accuracy: 0.6778 - val_loss: 0.9136 - val_accuracy: 0.6667\n",
      "Epoch 62/100\n",
      "113/113 [==============================] - 85s 753ms/step - loss: 0.8672 - accuracy: 0.6704 - val_loss: 0.8357 - val_accuracy: 0.6958\n",
      "Epoch 63/100\n",
      "113/113 [==============================] - 85s 752ms/step - loss: 0.8522 - accuracy: 0.6857 - val_loss: 0.8955 - val_accuracy: 0.6417\n",
      "Epoch 64/100\n",
      "113/113 [==============================] - 86s 754ms/step - loss: 0.9003 - accuracy: 0.6682 - val_loss: 1.0398 - val_accuracy: 0.5958\n",
      "Epoch 65/100\n",
      "113/113 [==============================] - 85s 752ms/step - loss: 0.8256 - accuracy: 0.6905 - val_loss: 0.8135 - val_accuracy: 0.7000\n",
      "Epoch 66/100\n",
      "113/113 [==============================] - 90s 792ms/step - loss: 0.8309 - accuracy: 0.6852 - val_loss: 0.8762 - val_accuracy: 0.6542\n",
      "Epoch 67/100\n",
      "113/113 [==============================] - 93s 820ms/step - loss: 0.8254 - accuracy: 0.6902 - val_loss: 0.8278 - val_accuracy: 0.6583\n",
      "Epoch 68/100\n",
      "113/113 [==============================] - 93s 820ms/step - loss: 0.8847 - accuracy: 0.6725 - val_loss: 0.9356 - val_accuracy: 0.6292\n",
      "Epoch 69/100\n",
      "113/113 [==============================] - 101s 887ms/step - loss: 0.8733 - accuracy: 0.6866 - val_loss: 0.7967 - val_accuracy: 0.7042\n",
      "Epoch 70/100\n",
      "113/113 [==============================] - 173s 2s/step - loss: 0.7930 - accuracy: 0.7203 - val_loss: 1.1648 - val_accuracy: 0.6583\n",
      "Epoch 71/100\n",
      "113/113 [==============================] - 141s 1s/step - loss: 0.8535 - accuracy: 0.6892 - val_loss: 0.9846 - val_accuracy: 0.6542\n",
      "Epoch 72/100\n",
      "113/113 [==============================] - 130s 1s/step - loss: 0.8281 - accuracy: 0.6945 - val_loss: 0.9372 - val_accuracy: 0.6875\n",
      "Epoch 73/100\n",
      "113/113 [==============================] - 161s 1s/step - loss: 0.8281 - accuracy: 0.7043 - val_loss: 0.8323 - val_accuracy: 0.6625\n",
      "Epoch 74/100\n",
      "113/113 [==============================] - 172s 2s/step - loss: 0.7898 - accuracy: 0.6995 - val_loss: 0.8646 - val_accuracy: 0.6792\n",
      "Epoch 75/100\n",
      "113/113 [==============================] - 89s 787ms/step - loss: 0.8055 - accuracy: 0.7006 - val_loss: 0.9503 - val_accuracy: 0.6833\n",
      "Epoch 76/100\n",
      "113/113 [==============================] - 93s 819ms/step - loss: 0.7661 - accuracy: 0.7284 - val_loss: 0.9837 - val_accuracy: 0.6667\n",
      "Epoch 77/100\n",
      "113/113 [==============================] - 93s 820ms/step - loss: 0.7957 - accuracy: 0.7012 - val_loss: 0.8746 - val_accuracy: 0.6375\n",
      "Epoch 78/100\n",
      "113/113 [==============================] - 93s 820ms/step - loss: 0.8363 - accuracy: 0.6972 - val_loss: 0.8608 - val_accuracy: 0.6667\n",
      "Epoch 79/100\n",
      "113/113 [==============================] - 95s 837ms/step - loss: 0.7930 - accuracy: 0.7041 - val_loss: 0.9514 - val_accuracy: 0.6625\n",
      "Epoch 80/100\n",
      "113/113 [==============================] - 94s 827ms/step - loss: 0.7720 - accuracy: 0.7201 - val_loss: 0.9129 - val_accuracy: 0.7167\n",
      "Epoch 81/100\n",
      "113/113 [==============================] - 93s 824ms/step - loss: 0.7693 - accuracy: 0.7081 - val_loss: 0.8004 - val_accuracy: 0.7125\n",
      "Epoch 82/100\n",
      "113/113 [==============================] - 94s 828ms/step - loss: 0.7679 - accuracy: 0.7393 - val_loss: 0.8356 - val_accuracy: 0.6625\n",
      "Epoch 83/100\n",
      "113/113 [==============================] - 93s 821ms/step - loss: 0.7808 - accuracy: 0.7221 - val_loss: 0.8638 - val_accuracy: 0.7208\n",
      "Epoch 84/100\n",
      "113/113 [==============================] - 93s 823ms/step - loss: 0.8006 - accuracy: 0.7117 - val_loss: 0.9625 - val_accuracy: 0.6667\n",
      "Epoch 85/100\n",
      "113/113 [==============================] - 94s 828ms/step - loss: 0.7765 - accuracy: 0.7064 - val_loss: 0.8119 - val_accuracy: 0.7208\n",
      "Epoch 86/100\n",
      "113/113 [==============================] - 91s 802ms/step - loss: 0.7663 - accuracy: 0.7296 - val_loss: 0.9931 - val_accuracy: 0.6125\n",
      "Epoch 87/100\n",
      "113/113 [==============================] - 90s 798ms/step - loss: 0.7893 - accuracy: 0.7046 - val_loss: 1.0558 - val_accuracy: 0.6375\n",
      "Epoch 88/100\n",
      "113/113 [==============================] - 93s 825ms/step - loss: 0.7831 - accuracy: 0.7014 - val_loss: 0.9590 - val_accuracy: 0.6750\n",
      "Epoch 89/100\n",
      "113/113 [==============================] - 94s 831ms/step - loss: 0.7607 - accuracy: 0.7251 - val_loss: 0.8545 - val_accuracy: 0.6750\n",
      "Epoch 90/100\n",
      "113/113 [==============================] - 94s 830ms/step - loss: 0.7652 - accuracy: 0.7129 - val_loss: 0.7821 - val_accuracy: 0.7000\n",
      "Epoch 91/100\n",
      "113/113 [==============================] - 95s 835ms/step - loss: 0.7189 - accuracy: 0.7255 - val_loss: 0.8623 - val_accuracy: 0.6833\n",
      "Epoch 92/100\n",
      "113/113 [==============================] - 95s 838ms/step - loss: 0.7587 - accuracy: 0.7306 - val_loss: 0.9012 - val_accuracy: 0.6875\n",
      "Epoch 93/100\n",
      "113/113 [==============================] - 94s 828ms/step - loss: 0.7356 - accuracy: 0.7151 - val_loss: 0.9970 - val_accuracy: 0.7125\n",
      "Epoch 94/100\n",
      "113/113 [==============================] - 93s 821ms/step - loss: 0.7606 - accuracy: 0.7113 - val_loss: 0.8512 - val_accuracy: 0.7125\n",
      "Epoch 95/100\n",
      "113/113 [==============================] - 94s 830ms/step - loss: 0.6769 - accuracy: 0.7405 - val_loss: 0.7862 - val_accuracy: 0.7375\n",
      "Epoch 96/100\n",
      "113/113 [==============================] - 92s 812ms/step - loss: 0.7423 - accuracy: 0.7242 - val_loss: 1.0421 - val_accuracy: 0.7083\n",
      "Epoch 97/100\n",
      "113/113 [==============================] - 94s 832ms/step - loss: 0.8162 - accuracy: 0.7128 - val_loss: 1.0485 - val_accuracy: 0.6708\n",
      "Epoch 98/100\n",
      "113/113 [==============================] - 96s 844ms/step - loss: 0.7285 - accuracy: 0.7333 - val_loss: 0.8334 - val_accuracy: 0.7083\n",
      "Epoch 99/100\n",
      "113/113 [==============================] - 92s 809ms/step - loss: 0.7278 - accuracy: 0.7327 - val_loss: 0.9925 - val_accuracy: 0.6708\n",
      "Epoch 100/100\n",
      "113/113 [==============================] - 91s 799ms/step - loss: 0.7231 - accuracy: 0.7363 - val_loss: 0.8856 - val_accuracy: 0.6875\n"
     ]
    }
   ],
   "source": [
    "history = model.fit_generator(\n",
    "    train_generator, #X_train, öğrenme verisi\n",
    "    epochs=num_epochs, #İterasyon sayısı\n",
    "    steps_per_epoch=step_size_train,#Bi seferde verilecek veri sayısı\n",
    "    validation_data=test_generator,#Doğrulama verisi\n",
    "    validation_steps=step_size_test)"
   ]
  },
  {
   "cell_type": "code",
   "execution_count": 17,
   "id": "suspended-locking",
   "metadata": {},
   "outputs": [],
   "source": [
    "model.save('garbage_classifier.h5')#Model kaydedilir."
   ]
  },
  {
   "cell_type": "code",
   "execution_count": 18,
   "id": "emotional-copying",
   "metadata": {},
   "outputs": [
    {
     "name": "stdout",
     "output_type": "stream",
     "text": [
      "dict_keys(['loss', 'accuracy', 'val_loss', 'val_accuracy'])\n"
     ]
    }
   ],
   "source": [
    "keys=history.history.keys() #Eğitim sürecinde oluşan değerler, tablolamada kullanılacak.\n",
    "print(keys)"
   ]
  },
  {
   "cell_type": "code",
   "execution_count": 19,
   "id": "fuzzy-interstate",
   "metadata": {},
   "outputs": [
    {
     "data": {
      "image/png": "[encoded data removed]",
      "text/plain": [
       "<Figure size 432x288 with 1 Axes>"
      ]
     },
     "metadata": {
      "needs_background": "light"
     },
     "output_type": "display_data"
    },
    {
     "data": {
      "image/png": "[encoded data removed]",
      "text/plain": [
       "<Figure size 432x288 with 1 Axes>"
      ]
     },
     "metadata": {
      "needs_background": "light"
     },
     "output_type": "display_data"
    }
   ],
   "source": [
    "#Eğitim sürecinin görselleştirilmesi\n",
    "import matplotlib.pyplot as plt\n",
    "\n",
    "def show_train_history(hisData,train,test): \n",
    "    plt.plot(hisData.history[train])\n",
    "    plt.plot(hisData.history[test])\n",
    "    plt.title('Training History')\n",
    "    plt.ylabel(train)\n",
    "    plt.xlabel('Epoch')\n",
    "    plt.legend(['train', 'test'], loc='upper left')\n",
    "    plt.show()\n",
    "\n",
    "show_train_history(history, 'loss', 'val_loss')\n",
    "show_train_history(history, 'accuracy', 'val_accuracy')"
   ]
  },
  {
   "cell_type": "code",
   "execution_count": null,
   "id": "protected-tours",
   "metadata": {},
   "outputs": [],
   "source": []
  },
  {
   "cell_type": "code",
   "execution_count": null,
   "id": "ongoing-cherry",
   "metadata": {},
   "outputs": [],
   "source": []
  },
  {
   "cell_type": "code",
   "execution_count": null,
   "id": "dramatic-wisconsin",
   "metadata": {},
   "outputs": [],
   "source": []
  },
  {
   "cell_type": "code",
   "execution_count": null,
   "id": "noticed-curtis",
   "metadata": {},
   "outputs": [],
   "source": []
  },
  {
   "cell_type": "code",
   "execution_count": null,
   "id": "stylish-livestock",
   "metadata": {},
   "outputs": [],
   "source": []
  },
  {
   "cell_type": "code",
   "execution_count": null,
   "id": "lined-sponsorship",
   "metadata": {},
   "outputs": [],
   "source": []
  }
 ],
 "metadata": {
  "kernelspec": {
   "display_name": "Python 3",
   "language": "python",
   "name": "python3"
  },
  "language_info": {
   "codemirror_mode": {
    "name": "ipython",
    "version": 3
   },
   "file_extension": ".py",
   "mimetype": "text/x-python",
   "name": "python",
   "nbconvert_exporter": "python",
   "pygments_lexer": "ipython3",
   "version": "3.8.5"
  }
 },
 "nbformat": 4,
 "nbformat_minor": 5
}
