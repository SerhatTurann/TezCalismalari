{
 "cells": [
  {
   "cell_type": "markdown",
   "metadata": {
    "id": "JdJkcleHUad-"
   },
   "source": [
    "##GPU kontrolü"
   ]
  },
  {
   "cell_type": "code",
   "execution_count": null,
   "metadata": {
    "colab": {
     "base_uri": "https://localhost:8080/"
    },
    "executionInfo": {
     "elapsed": 626,
     "status": "ok",
     "timestamp": 1617633212629,
     "user": {
      "displayName": "Serhat Turan",
      "photoUrl": "",
      "userId": "15067230728863420434"
     },
     "user_tz": -180
    },
    "id": "Q55YtlCcTdjT",
    "outputId": "3272138d-7fc7-4b20-8377-8d9bfd570c4d"
   },
   "outputs": [
    {
     "name": "stdout",
     "output_type": "stream",
     "text": [
      "Drive already mounted at /gdrive; to attempt to forcibly remount, call drive.mount(\"/gdrive\", force_remount=True).\n",
      "/gdrive\n"
     ]
    }
   ],
   "source": [
    "from google.colab import drive\n",
    "drive.mount('/gdrive')\n",
    "%cd /gdrive"
   ]
  },
  {
   "cell_type": "code",
   "execution_count": null,
   "metadata": {
    "colab": {
     "base_uri": "https://localhost:8080/"
    },
    "executionInfo": {
     "elapsed": 708,
     "status": "ok",
     "timestamp": 1617633216010,
     "user": {
      "displayName": "Serhat Turan",
      "photoUrl": "",
      "userId": "15067230728863420434"
     },
     "user_tz": -180
    },
    "id": "03icA0QBT1p2",
    "outputId": "cae2d20d-f785-4360-ca6f-c55842ed8060"
   },
   "outputs": [
    {
     "name": "stdout",
     "output_type": "stream",
     "text": [
      "MyDrive\n"
     ]
    }
   ],
   "source": [
    "!ls"
   ]
  },
  {
   "cell_type": "code",
   "execution_count": null,
   "metadata": {
    "colab": {
     "base_uri": "https://localhost:8080/",
     "height": 35
    },
    "executionInfo": {
     "elapsed": 7134,
     "status": "ok",
     "timestamp": 1617633223989,
     "user": {
      "displayName": "Serhat Turan",
      "photoUrl": "",
      "userId": "15067230728863420434"
     },
     "user_tz": -180
    },
    "id": "bxNrhWShUD7y",
    "outputId": "02f16ad0-9cf2-4df2-a4ae-b682c2078899"
   },
   "outputs": [
    {
     "data": {
      "application/vnd.google.colaboratory.intrinsic+json": {
       "type": "string"
      },
      "text/plain": [
       "'/device:GPU:0'"
      ]
     },
     "execution_count": 4,
     "metadata": {
      "tags": []
     },
     "output_type": "execute_result"
    }
   ],
   "source": [
    "import tensorflow as tf\n",
    "tf.test.gpu_device_name()"
   ]
  },
  {
   "cell_type": "code",
   "execution_count": null,
   "metadata": {
    "colab": {
     "base_uri": "https://localhost:8080/"
    },
    "executionInfo": {
     "elapsed": 618,
     "status": "ok",
     "timestamp": 1617633227805,
     "user": {
      "displayName": "Serhat Turan",
      "photoUrl": "",
      "userId": "15067230728863420434"
     },
     "user_tz": -180
    },
    "id": "LIqLha9AUF5I",
    "outputId": "c898c8fd-29dd-48c6-c0a7-45c120eeb9e4"
   },
   "outputs": [
    {
     "data": {
      "text/plain": [
       "[name: \"/device:CPU:0\"\n",
       " device_type: \"CPU\"\n",
       " memory_limit: 268435456\n",
       " locality {\n",
       " }\n",
       " incarnation: 17725813764974795206, name: \"/device:GPU:0\"\n",
       " device_type: \"GPU\"\n",
       " memory_limit: 14674281152\n",
       " locality {\n",
       "   bus_id: 1\n",
       "   links {\n",
       "   }\n",
       " }\n",
       " incarnation: 15096794963219700556\n",
       " physical_device_desc: \"device: 0, name: Tesla T4, pci bus id: 0000:00:04.0, compute capability: 7.5\"]"
      ]
     },
     "execution_count": 5,
     "metadata": {
      "tags": []
     },
     "output_type": "execute_result"
    }
   ],
   "source": [
    "from tensorflow.python.client import device_lib\n",
    "device_lib.list_local_devices()"
   ]
  },
  {
   "cell_type": "markdown",
   "metadata": {
    "id": "ZmYFphc_US2B"
   },
   "source": [
    "##Veri Setinin yüklenmesi"
   ]
  },
  {
   "cell_type": "code",
   "execution_count": null,
   "metadata": {
    "colab": {
     "base_uri": "https://localhost:8080/",
     "height": 35
    },
    "executionInfo": {
     "elapsed": 600,
     "status": "ok",
     "timestamp": 1617636091406,
     "user": {
      "displayName": "Serhat Turan",
      "photoUrl": "",
      "userId": "15067230728863420434"
     },
     "user_tz": -180
    },
    "id": "AMS0N_lUUNsp",
    "outputId": "ac67e213-23ce-436a-b0d2-9ddc6931c533"
   },
   "outputs": [
    {
     "data": {
      "application/vnd.google.colaboratory.intrinsic+json": {
       "type": "string"
      },
      "text/plain": [
       "'/gdrive/My Drive/TezCalismalari/GarbageDataset/Garbage classification/Garbage classification'"
      ]
     },
     "execution_count": 73,
     "metadata": {
      "tags": []
     },
     "output_type": "execute_result"
    }
   ],
   "source": [
    "data_path = \"/gdrive/My Drive/TezCalismalari/GarbageDataset/Garbage classification/Garbage classification\"\n",
    "data_path"
   ]
  },
  {
   "cell_type": "code",
   "execution_count": null,
   "metadata": {
    "colab": {
     "base_uri": "https://localhost:8080/"
    },
    "executionInfo": {
     "elapsed": 636,
     "status": "ok",
     "timestamp": 1617636092769,
     "user": {
      "displayName": "Serhat Turan",
      "photoUrl": "",
      "userId": "15067230728863420434"
     },
     "user_tz": -180
    },
    "id": "sJWUja3on0CX",
    "outputId": "b6286597-affa-469a-f9a3-abaa97aedde5"
   },
   "outputs": [
    {
     "name": "stdout",
     "output_type": "stream",
     "text": [
      "Drive already mounted at /gdrive; to attempt to forcibly remount, call drive.mount(\"/gdrive\", force_remount=True).\n",
      "/gdrive\n"
     ]
    }
   ],
   "source": [
    "from google.colab import drive\n",
    "drive.mount('/gdrive')\n",
    "%cd /gdrive"
   ]
  },
  {
   "cell_type": "code",
   "execution_count": null,
   "metadata": {
    "id": "u0Uk3xbHn0KK"
   },
   "outputs": [],
   "source": [
    "import os\n",
    "\n",
    "os.chdir('/gdrive/My Drive')"
   ]
  },
  {
   "cell_type": "code",
   "execution_count": null,
   "metadata": {
    "colab": {
     "base_uri": "https://localhost:8080/"
    },
    "executionInfo": {
     "elapsed": 2460,
     "status": "ok",
     "timestamp": 1617636104989,
     "user": {
      "displayName": "Serhat Turan",
      "photoUrl": "",
      "userId": "15067230728863420434"
     },
     "user_tz": -180
    },
    "id": "3ow0_qjan0Ti",
    "outputId": "f20f1f61-7237-49f5-8e2c-f5849be7cc00"
   },
   "outputs": [
    {
     "name": "stdout",
     "output_type": "stream",
     "text": [
      "KerasileDerinOgrenme  OrnekKodlar     Untitled0.ipynb\n",
      "ObjectDetection       TezCalismalari\n"
     ]
    }
   ],
   "source": [
    "!ls"
   ]
  },
  {
   "cell_type": "code",
   "execution_count": null,
   "metadata": {
    "id": "20UdvJ-bUfYd"
   },
   "outputs": [],
   "source": [
    "import numpy as np # Dizi ve matris işlemleri için özelleşmiş bir kütüphanedir.\n",
    "import matplotlib.pyplot as plt #Grafikleştirme işlemleri için kullanılan kütüphanedir.\n",
    "from keras.preprocessing.image import ImageDataGenerator, load_img, img_to_array, array_to_img\n",
    "#Eğitim öncesi görüntü ayarlarını yapmak için kullanılır.\n",
    "#Görüntü artırma, ölçeklendirme gibi işlemler."
   ]
  },
  {
   "cell_type": "code",
   "execution_count": null,
   "metadata": {
    "id": "tMDsqIbBVYCM"
   },
   "outputs": [],
   "source": [
    "import glob, os#dosya işlemleri için kullanılan kütüphanelerdir.\n",
    "import random "
   ]
  },
  {
   "cell_type": "code",
   "execution_count": null,
   "metadata": {
    "colab": {
     "base_uri": "https://localhost:8080/"
    },
    "executionInfo": {
     "elapsed": 607,
     "status": "ok",
     "timestamp": 1617636113718,
     "user": {
      "displayName": "Serhat Turan",
      "photoUrl": "",
      "userId": "15067230728863420434"
     },
     "user_tz": -180
    },
    "id": "2xLovTGRVcrr",
    "outputId": "4ab26779-82be-4d5c-9d0e-70e65d93c803"
   },
   "outputs": [
    {
     "name": "stdout",
     "output_type": "stream",
     "text": [
      "2527\n"
     ]
    }
   ],
   "source": [
    "#Dosya yolu\n",
    "base_path = \"/gdrive/My Drive/TezCalismalari/GarbageDataset/Garbage classification/Garbage classification\"\n",
    "#dosyadan okunan fotoğrafların yüklendiği değişken\n",
    "img_list = glob.glob(os.path.join(base_path, '*/*.jpg'))\n",
    "\n",
    "print(len(img_list))"
   ]
  },
  {
   "cell_type": "code",
   "execution_count": null,
   "metadata": {
    "colab": {
     "base_uri": "https://localhost:8080/",
     "height": 244
    },
    "executionInfo": {
     "elapsed": 1567,
     "status": "ok",
     "timestamp": 1617636115425,
     "user": {
      "displayName": "Serhat Turan",
      "photoUrl": "",
      "userId": "15067230728863420434"
     },
     "user_tz": -180
    },
    "id": "XQNq5B1gVmRN",
    "outputId": "3cb06a5b-7a07-4288-8a7e-17bbbd935260"
   },
   "outputs": [
    {
     "data": {
      "image/png": "[encoded data removed]",
      "text/plain": [
       "<Figure size 432x288 with 6 Axes>"
      ]
     },
     "metadata": {
      "needs_background": "light",
      "tags": []
     },
     "output_type": "display_data"
    }
   ],
   "source": [
    "#Verisetinden örnek bir kaç görüntü\n",
    "for i, img_path in enumerate(random.sample(img_list, 6)):\n",
    "    img = load_img(img_path)\n",
    "    img = img_to_array(img, dtype=np.uint8)\n",
    "\n",
    "    plt.subplot(2, 3, i+1)\n",
    "    plt.imshow(img.squeeze())"
   ]
  },
  {
   "cell_type": "code",
   "execution_count": null,
   "metadata": {
    "colab": {
     "base_uri": "https://localhost:8080/"
    },
    "executionInfo": {
     "elapsed": 851,
     "status": "ok",
     "timestamp": 1617636117141,
     "user": {
      "displayName": "Serhat Turan",
      "photoUrl": "",
      "userId": "15067230728863420434"
     },
     "user_tz": -180
    },
    "id": "jdsoonFteLiK",
    "outputId": "8cb194b6-90a8-43ba-8f40-c3bae68b826d"
   },
   "outputs": [
    {
     "name": "stdout",
     "output_type": "stream",
     "text": [
      "Found 2276 images belonging to 6 classes.\n",
      "Found 251 images belonging to 6 classes.\n",
      "{0: 'cardboard', 1: 'glass', 2: 'metal', 3: 'paper', 4: 'plastic', 5: 'trash'}\n"
     ]
    }
   ],
   "source": [
    "train_datagen = ImageDataGenerator(\n",
    "    rescale=1./255,#Ölçeklendirme, verilen değerle çarpılır.\n",
    "    shear_range=0.1,#Kesme açısı\n",
    "    zoom_range=0.1,#Rastgele yaklaştırma\n",
    "    width_shift_range=0.1,\n",
    "    height_shift_range=0.1,\n",
    "    horizontal_flip=True,#Girilen değeri rastgele yatay çevirme.\n",
    "    vertical_flip=True,#Girilen değeri rastgele dikey çevirme.\n",
    "    validation_split=0.1#Doğrulama için ayrılan val'ın oranı\n",
    ")\n",
    "\n",
    "test_datagen = ImageDataGenerator(\n",
    "    rescale=1./255,#ölçeklendirme\n",
    "    validation_split=0.1#Doğrulama için ayrılan val'ın oranı\n",
    ")\n",
    "\n",
    "train_generator = train_datagen.flow_from_directory(\n",
    "    base_path,\n",
    "    target_size=(300, 300),#Fotoğrafın kaça kaç olacağı\n",
    "    class_mode='categorical',#Sınıfların sırasını kontrol etmek için kullanılır\n",
    "    subset='training',#Alt küme ayarlama validation/training\n",
    "    seed=0\n",
    ")\n",
    "\n",
    "validation_generator = test_datagen.flow_from_directory(\n",
    "    base_path,\n",
    "    target_size=(300, 300),#Fotoğrafın kaça kaç olacağı\n",
    "    class_mode='categorical',\n",
    "    subset='validation',#Alt küme ayarlama validation/training\n",
    "    seed=0\n",
    ")\n",
    "#Etiketlerin görüntülenmesi\n",
    "labels = (train_generator.class_indices)\n",
    "labels = dict((v,k) for k,v in labels.items())\n",
    "print(labels)"
   ]
  },
  {
   "cell_type": "markdown",
   "metadata": {
    "id": "5EPeVYo1Bi2-"
   },
   "source": [
    "## Derin öğrenme kütüphanelerinin yüklenmesi"
   ]
  },
  {
   "cell_type": "code",
   "execution_count": null,
   "metadata": {
    "id": "zKaEK-Gffu09"
   },
   "outputs": [],
   "source": [
    "import tensorflow as tf\n",
    "import tensorflow.keras as keras\n",
    "from tensorflow.keras.callbacks import EarlyStopping,ModelCheckpoint\n",
    "from tensorflow.keras.layers import Conv2D, Flatten, MaxPooling2D,Dense,Dropout\n",
    "from tensorflow.keras.models  import Sequential\n",
    "from tensorflow.keras.preprocessing.image import ImageDataGenerator"
   ]
  },
  {
   "cell_type": "markdown",
   "metadata": {
    "id": "IjnNQjk3CktF"
   },
   "source": [
    "## Modelin oluşturulması"
   ]
  },
  {
   "cell_type": "code",
   "execution_count": null,
   "metadata": {
    "colab": {
     "base_uri": "https://localhost:8080/"
    },
    "executionInfo": {
     "elapsed": 672,
     "status": "ok",
     "timestamp": 1617636144188,
     "user": {
      "displayName": "Serhat Turan",
      "photoUrl": "",
      "userId": "15067230728863420434"
     },
     "user_tz": -180
    },
    "id": "cOM7_ATaeLxr",
    "outputId": "5c8d5ba5-1bfc-4e52-b38f-463e77b7f5c4"
   },
   "outputs": [
    {
     "name": "stdout",
     "output_type": "stream",
     "text": [
      "Model: \"sequential_5\"\n",
      "_________________________________________________________________\n",
      "Layer (type)                 Output Shape              Param #   \n",
      "=================================================================\n",
      "conv2d_28 (Conv2D)           (None, 300, 300, 32)      896       \n",
      "_________________________________________________________________\n",
      "max_pooling2d_28 (MaxPooling (None, 150, 150, 32)      0         \n",
      "_________________________________________________________________\n",
      "conv2d_29 (Conv2D)           (None, 150, 150, 128)     36992     \n",
      "_________________________________________________________________\n",
      "max_pooling2d_29 (MaxPooling (None, 75, 75, 128)       0         \n",
      "_________________________________________________________________\n",
      "dropout_23 (Dropout)         (None, 75, 75, 128)       0         \n",
      "_________________________________________________________________\n",
      "conv2d_30 (Conv2D)           (None, 75, 75, 64)        73792     \n",
      "_________________________________________________________________\n",
      "max_pooling2d_30 (MaxPooling (None, 37, 37, 64)        0         \n",
      "_________________________________________________________________\n",
      "dropout_24 (Dropout)         (None, 37, 37, 64)        0         \n",
      "_________________________________________________________________\n",
      "conv2d_31 (Conv2D)           (None, 37, 37, 64)        36928     \n",
      "_________________________________________________________________\n",
      "max_pooling2d_31 (MaxPooling (None, 18, 18, 64)        0         \n",
      "_________________________________________________________________\n",
      "dropout_25 (Dropout)         (None, 18, 18, 64)        0         \n",
      "_________________________________________________________________\n",
      "conv2d_32 (Conv2D)           (None, 18, 18, 32)        18464     \n",
      "_________________________________________________________________\n",
      "max_pooling2d_32 (MaxPooling (None, 9, 9, 32)          0         \n",
      "_________________________________________________________________\n",
      "flatten_5 (Flatten)          (None, 2592)              0         \n",
      "_________________________________________________________________\n",
      "dense_10 (Dense)             (None, 1024)              2655232   \n",
      "_________________________________________________________________\n",
      "dropout_26 (Dropout)         (None, 1024)              0         \n",
      "_________________________________________________________________\n",
      "dense_11 (Dense)             (None, 6)                 6150      \n",
      "=================================================================\n",
      "Total params: 2,828,454\n",
      "Trainable params: 2,828,454\n",
      "Non-trainable params: 0\n",
      "_________________________________________________________________\n"
     ]
    }
   ],
   "source": [
    "\n",
    "model = Sequential()\n",
    "   \n",
    "model.add(Conv2D(32,(3,3), #Konvolüsyon katmanı\n",
    "                 padding='same', \n",
    "                 input_shape=(300,300,3),#Görüntü girdi boyutu\n",
    "                 activation='relu'))#Aktivasyon fonksiyonu\n",
    "model.add(MaxPooling2D(pool_size=(2,2))) #Havuzlama katmanı\n",
    "\n",
    "model.add(Conv2D(128,(3,3), padding='same', activation='relu'))\n",
    "model.add(MaxPooling2D(pool_size=(2,2))) \n",
    "model.add(Dropout(0.25))\n",
    "\n",
    "model.add(Conv2D(64,(3,3), padding='same', activation='relu'))\n",
    "model.add(MaxPooling2D(pool_size=(2,2))) \n",
    "model.add(Dropout(0.25))\n",
    "\n",
    "model.add(Conv2D(64,(3,3), padding='same', activation='relu'))\n",
    "model.add(MaxPooling2D(pool_size=(2,2))) \n",
    "model.add(Dropout(0.25))\n",
    "\n",
    "model.add(Conv2D(32,(3,3), padding='same', activation='relu'))\n",
    "model.add(MaxPooling2D(pool_size=(2,2))) \n",
    "\n",
    "model.add(Flatten())#düzleştirme katmanı\n",
    "model.add(Dense(1024,activation='relu'))#tam bağlı katman\n",
    "model.add(Dropout(0.5))\n",
    "model.add(Dense(6,activation='softmax'))#Çıkış katmanı\n",
    "\n",
    "model.summary()#model özeti"
   ]
  },
  {
   "cell_type": "markdown",
   "metadata": {
    "id": "KXz_7RobCryN"
   },
   "source": [
    "## Modelin Derlenmesi"
   ]
  },
  {
   "cell_type": "code",
   "execution_count": null,
   "metadata": {
    "id": "wDDFWMD0eME4"
   },
   "outputs": [],
   "source": [
    "#Model derleme işlemleri. \n",
    "model.compile(\n",
    "    loss='categorical_crossentropy', #Kayıp fonksiyonu\n",
    "    optimizer='adam',#Optimizasyon fonksiyonu\n",
    "     metrics=['accuracy'])#Doğruluk ölçütü-değeri"
   ]
  },
  {
   "cell_type": "markdown",
   "metadata": {
    "id": "EJ-6K643DjQi"
   },
   "source": [
    "## Early Stopping ve Model Checkpoint"
   ]
  },
  {
   "cell_type": "code",
   "execution_count": null,
   "metadata": {
    "id": "m_daKRmLeMJG"
   },
   "outputs": [],
   "source": [
    "model_path=\"garbage_cnn.h5\"#kaydedilecek modelin ismi\n",
    "es = EarlyStopping(monitor='val_loss', verbose=1, mode='min', patience=15)#aşırı öğrenmeyi önlemek için kullanılır.\n",
    "checkpoint1 = ModelCheckpoint(model_path, monitor='val_accuracy', verbose=1, save_best_only=True, mode='max')\n",
    "#modelin en iyi durumunu kaydetmek için kullanılır.\n",
    "callbacks_list = [es,checkpoint1]"
   ]
  },
  {
   "cell_type": "code",
   "execution_count": null,
   "metadata": {
    "id": "Wp05gSKveMMA"
   },
   "outputs": [],
   "source": [
    "batch_size = 64 #Bir seferde verilecek veri yığını boyutu\n",
    "num_epochs = 350 #iterasyon sayısı\n",
    "\n",
    "#bir iterasyonda verilecek train ve test verilerinin oranlanması\n",
    "step_size_train=train_generator.n//batch_size\n",
    "step_size_validation =validation_generator.n//batch_size"
   ]
  },
  {
   "cell_type": "markdown",
   "metadata": {
    "id": "ildXy78uDd96"
   },
   "source": [
    "## Modelin eğitilmesi\n"
   ]
  },
  {
   "cell_type": "code",
   "execution_count": null,
   "metadata": {
    "colab": {
     "base_uri": "https://localhost:8080/"
    },
    "executionInfo": {
     "elapsed": 2243669,
     "status": "ok",
     "timestamp": 1617638430526,
     "user": {
      "displayName": "Serhat Turan",
      "photoUrl": "",
      "userId": "15067230728863420434"
     },
     "user_tz": -180
    },
    "id": "LpXQnkbXeMPq",
    "outputId": "ee2c951a-a914-4e04-a2ab-04e9f2002684"
   },
   "outputs": [
    {
     "name": "stderr",
     "output_type": "stream",
     "text": [
      "/usr/local/lib/python3.7/dist-packages/tensorflow/python/keras/engine/training.py:1844: UserWarning: `Model.fit_generator` is deprecated and will be removed in a future version. Please use `Model.fit`, which supports generators.\n",
      "  warnings.warn('`Model.fit_generator` is deprecated and '\n"
     ]
    },
    {
     "name": "stdout",
     "output_type": "stream",
     "text": [
      "Epoch 1/350\n",
      "35/35 [==============================] - 25s 687ms/step - loss: 1.8553 - accuracy: 0.2094 - val_loss: 1.7414 - val_accuracy: 0.1979\n",
      "\n",
      "Epoch 00001: val_accuracy improved from -inf to 0.19792, saving model to garbage_cnn.h5\n",
      "Epoch 2/350\n",
      "35/35 [==============================] - 24s 690ms/step - loss: 1.7218 - accuracy: 0.1900 - val_loss: 1.7329 - val_accuracy: 0.2708\n",
      "\n",
      "Epoch 00002: val_accuracy improved from 0.19792 to 0.27083, saving model to garbage_cnn.h5\n",
      "Epoch 3/350\n",
      "35/35 [==============================] - 25s 709ms/step - loss: 1.6120 - accuracy: 0.3452 - val_loss: 1.5847 - val_accuracy: 0.3958\n",
      "\n",
      "Epoch 00003: val_accuracy improved from 0.27083 to 0.39583, saving model to garbage_cnn.h5\n",
      "Epoch 4/350\n",
      "35/35 [==============================] - 24s 691ms/step - loss: 1.5492 - accuracy: 0.3478 - val_loss: 1.4959 - val_accuracy: 0.4062\n",
      "\n",
      "Epoch 00004: val_accuracy improved from 0.39583 to 0.40625, saving model to garbage_cnn.h5\n",
      "Epoch 5/350\n",
      "35/35 [==============================] - 24s 692ms/step - loss: 1.4352 - accuracy: 0.4122 - val_loss: 1.3829 - val_accuracy: 0.4792\n",
      "\n",
      "Epoch 00005: val_accuracy improved from 0.40625 to 0.47917, saving model to garbage_cnn.h5\n",
      "Epoch 6/350\n",
      "35/35 [==============================] - 24s 684ms/step - loss: 1.4028 - accuracy: 0.4316 - val_loss: 1.4949 - val_accuracy: 0.3646\n",
      "\n",
      "Epoch 00006: val_accuracy did not improve from 0.47917\n",
      "Epoch 7/350\n",
      "35/35 [==============================] - 24s 697ms/step - loss: 1.4174 - accuracy: 0.3945 - val_loss: 1.4223 - val_accuracy: 0.4375\n",
      "\n",
      "Epoch 00007: val_accuracy did not improve from 0.47917\n",
      "Epoch 8/350\n",
      "35/35 [==============================] - 24s 681ms/step - loss: 1.3285 - accuracy: 0.4548 - val_loss: 1.4087 - val_accuracy: 0.3958\n",
      "\n",
      "Epoch 00008: val_accuracy did not improve from 0.47917\n",
      "Epoch 9/350\n",
      "35/35 [==============================] - 24s 680ms/step - loss: 1.2920 - accuracy: 0.4540 - val_loss: 1.3116 - val_accuracy: 0.3750\n",
      "\n",
      "Epoch 00009: val_accuracy did not improve from 0.47917\n",
      "Epoch 10/350\n",
      "35/35 [==============================] - 24s 678ms/step - loss: 1.3684 - accuracy: 0.4501 - val_loss: 1.3846 - val_accuracy: 0.4479\n",
      "\n",
      "Epoch 00010: val_accuracy did not improve from 0.47917\n",
      "Epoch 11/350\n",
      "35/35 [==============================] - 24s 693ms/step - loss: 1.3519 - accuracy: 0.4427 - val_loss: 1.3394 - val_accuracy: 0.4583\n",
      "\n",
      "Epoch 00011: val_accuracy did not improve from 0.47917\n",
      "Epoch 12/350\n",
      "35/35 [==============================] - 24s 696ms/step - loss: 1.2575 - accuracy: 0.4744 - val_loss: 1.2435 - val_accuracy: 0.5729\n",
      "\n",
      "Epoch 00012: val_accuracy improved from 0.47917 to 0.57292, saving model to garbage_cnn.h5\n",
      "Epoch 13/350\n",
      "35/35 [==============================] - 24s 694ms/step - loss: 1.1651 - accuracy: 0.5406 - val_loss: 1.3488 - val_accuracy: 0.4792\n",
      "\n",
      "Epoch 00013: val_accuracy did not improve from 0.57292\n",
      "Epoch 14/350\n",
      "35/35 [==============================] - 24s 691ms/step - loss: 1.0840 - accuracy: 0.5968 - val_loss: 1.1832 - val_accuracy: 0.5417\n",
      "\n",
      "Epoch 00014: val_accuracy did not improve from 0.57292\n",
      "Epoch 15/350\n",
      "35/35 [==============================] - 25s 701ms/step - loss: 1.1398 - accuracy: 0.5714 - val_loss: 1.1733 - val_accuracy: 0.5104\n",
      "\n",
      "Epoch 00015: val_accuracy did not improve from 0.57292\n",
      "Epoch 16/350\n",
      "35/35 [==============================] - 25s 703ms/step - loss: 1.1484 - accuracy: 0.5657 - val_loss: 1.2893 - val_accuracy: 0.4792\n",
      "\n",
      "Epoch 00016: val_accuracy did not improve from 0.57292\n",
      "Epoch 17/350\n",
      "35/35 [==============================] - 25s 706ms/step - loss: 1.1076 - accuracy: 0.5768 - val_loss: 1.1058 - val_accuracy: 0.5833\n",
      "\n",
      "Epoch 00017: val_accuracy improved from 0.57292 to 0.58333, saving model to garbage_cnn.h5\n",
      "Epoch 18/350\n",
      "35/35 [==============================] - 25s 698ms/step - loss: 1.0857 - accuracy: 0.5723 - val_loss: 1.1689 - val_accuracy: 0.5312\n",
      "\n",
      "Epoch 00018: val_accuracy did not improve from 0.58333\n",
      "Epoch 19/350\n",
      "35/35 [==============================] - 24s 686ms/step - loss: 1.0770 - accuracy: 0.6101 - val_loss: 1.2590 - val_accuracy: 0.5000\n",
      "\n",
      "Epoch 00019: val_accuracy did not improve from 0.58333\n",
      "Epoch 20/350\n",
      "35/35 [==============================] - 24s 695ms/step - loss: 1.1640 - accuracy: 0.5585 - val_loss: 1.1502 - val_accuracy: 0.5729\n",
      "\n",
      "Epoch 00020: val_accuracy did not improve from 0.58333\n",
      "Epoch 21/350\n",
      "35/35 [==============================] - 24s 694ms/step - loss: 1.0249 - accuracy: 0.6128 - val_loss: 1.1372 - val_accuracy: 0.5104\n",
      "\n",
      "Epoch 00021: val_accuracy did not improve from 0.58333\n",
      "Epoch 22/350\n",
      "35/35 [==============================] - 24s 697ms/step - loss: 1.0498 - accuracy: 0.6047 - val_loss: 1.1778 - val_accuracy: 0.5521\n",
      "\n",
      "Epoch 00022: val_accuracy did not improve from 0.58333\n",
      "Epoch 23/350\n",
      "35/35 [==============================] - 24s 694ms/step - loss: 0.9903 - accuracy: 0.6233 - val_loss: 1.1880 - val_accuracy: 0.5312\n",
      "\n",
      "Epoch 00023: val_accuracy did not improve from 0.58333\n",
      "Epoch 24/350\n",
      "35/35 [==============================] - 25s 704ms/step - loss: 1.0468 - accuracy: 0.6105 - val_loss: 1.1504 - val_accuracy: 0.5729\n",
      "\n",
      "Epoch 00024: val_accuracy did not improve from 0.58333\n",
      "Epoch 25/350\n",
      "35/35 [==============================] - 24s 697ms/step - loss: 0.9742 - accuracy: 0.6506 - val_loss: 1.0868 - val_accuracy: 0.5729\n",
      "\n",
      "Epoch 00025: val_accuracy did not improve from 0.58333\n",
      "Epoch 26/350\n",
      "35/35 [==============================] - 24s 685ms/step - loss: 0.9879 - accuracy: 0.6116 - val_loss: 1.0130 - val_accuracy: 0.6250\n",
      "\n",
      "Epoch 00026: val_accuracy improved from 0.58333 to 0.62500, saving model to garbage_cnn.h5\n",
      "Epoch 27/350\n",
      "35/35 [==============================] - 24s 689ms/step - loss: 0.9290 - accuracy: 0.6636 - val_loss: 1.0679 - val_accuracy: 0.6042\n",
      "\n",
      "Epoch 00027: val_accuracy did not improve from 0.62500\n",
      "Epoch 28/350\n",
      "35/35 [==============================] - 25s 699ms/step - loss: 0.9224 - accuracy: 0.6694 - val_loss: 1.0765 - val_accuracy: 0.6667\n",
      "\n",
      "Epoch 00028: val_accuracy improved from 0.62500 to 0.66667, saving model to garbage_cnn.h5\n",
      "Epoch 29/350\n",
      "35/35 [==============================] - 24s 689ms/step - loss: 0.9126 - accuracy: 0.6627 - val_loss: 1.1017 - val_accuracy: 0.6354\n",
      "\n",
      "Epoch 00029: val_accuracy did not improve from 0.66667\n",
      "Epoch 30/350\n",
      "35/35 [==============================] - 24s 684ms/step - loss: 0.8731 - accuracy: 0.6855 - val_loss: 1.1170 - val_accuracy: 0.5938\n",
      "\n",
      "Epoch 00030: val_accuracy did not improve from 0.66667\n",
      "Epoch 31/350\n",
      "35/35 [==============================] - 24s 688ms/step - loss: 0.8899 - accuracy: 0.6589 - val_loss: 0.9715 - val_accuracy: 0.6458\n",
      "\n",
      "Epoch 00031: val_accuracy did not improve from 0.66667\n",
      "Epoch 32/350\n",
      "35/35 [==============================] - 24s 691ms/step - loss: 0.9396 - accuracy: 0.6307 - val_loss: 1.2296 - val_accuracy: 0.5521\n",
      "\n",
      "Epoch 00032: val_accuracy did not improve from 0.66667\n",
      "Epoch 33/350\n",
      "35/35 [==============================] - 24s 685ms/step - loss: 0.9696 - accuracy: 0.6492 - val_loss: 1.0402 - val_accuracy: 0.6146\n",
      "\n",
      "Epoch 00033: val_accuracy did not improve from 0.66667\n",
      "Epoch 34/350\n",
      "35/35 [==============================] - 25s 705ms/step - loss: 0.8539 - accuracy: 0.6779 - val_loss: 1.0773 - val_accuracy: 0.6458\n",
      "\n",
      "Epoch 00034: val_accuracy did not improve from 0.66667\n",
      "Epoch 35/350\n",
      "35/35 [==============================] - 25s 709ms/step - loss: 0.8132 - accuracy: 0.6940 - val_loss: 1.0405 - val_accuracy: 0.6562\n",
      "\n",
      "Epoch 00035: val_accuracy did not improve from 0.66667\n",
      "Epoch 36/350\n",
      "35/35 [==============================] - 24s 689ms/step - loss: 0.8613 - accuracy: 0.6943 - val_loss: 0.9694 - val_accuracy: 0.6250\n",
      "\n",
      "Epoch 00036: val_accuracy did not improve from 0.66667\n",
      "Epoch 37/350\n",
      "35/35 [==============================] - 24s 699ms/step - loss: 0.7551 - accuracy: 0.7038 - val_loss: 0.9224 - val_accuracy: 0.6667\n",
      "\n",
      "Epoch 00037: val_accuracy did not improve from 0.66667\n",
      "Epoch 38/350\n",
      "35/35 [==============================] - 24s 681ms/step - loss: 0.8551 - accuracy: 0.6962 - val_loss: 1.0782 - val_accuracy: 0.6667\n",
      "\n",
      "Epoch 00038: val_accuracy did not improve from 0.66667\n",
      "Epoch 39/350\n",
      "35/35 [==============================] - 24s 683ms/step - loss: 0.8842 - accuracy: 0.6757 - val_loss: 0.9364 - val_accuracy: 0.6667\n",
      "\n",
      "Epoch 00039: val_accuracy did not improve from 0.66667\n",
      "Epoch 40/350\n",
      "35/35 [==============================] - 25s 701ms/step - loss: 0.7373 - accuracy: 0.7192 - val_loss: 1.0069 - val_accuracy: 0.6771\n",
      "\n",
      "Epoch 00040: val_accuracy improved from 0.66667 to 0.67708, saving model to garbage_cnn.h5\n",
      "Epoch 41/350\n",
      "35/35 [==============================] - 25s 710ms/step - loss: 0.8265 - accuracy: 0.6969 - val_loss: 1.0171 - val_accuracy: 0.6354\n",
      "\n",
      "Epoch 00041: val_accuracy did not improve from 0.67708\n",
      "Epoch 42/350\n",
      "35/35 [==============================] - 24s 680ms/step - loss: 0.7084 - accuracy: 0.7657 - val_loss: 1.1668 - val_accuracy: 0.6562\n",
      "\n",
      "Epoch 00042: val_accuracy did not improve from 0.67708\n",
      "Epoch 43/350\n",
      "35/35 [==============================] - 24s 687ms/step - loss: 0.7700 - accuracy: 0.7034 - val_loss: 0.9026 - val_accuracy: 0.6562\n",
      "\n",
      "Epoch 00043: val_accuracy did not improve from 0.67708\n",
      "Epoch 44/350\n",
      "35/35 [==============================] - 25s 714ms/step - loss: 0.7636 - accuracy: 0.7119 - val_loss: 0.9425 - val_accuracy: 0.6979\n",
      "\n",
      "Epoch 00044: val_accuracy improved from 0.67708 to 0.69792, saving model to garbage_cnn.h5\n",
      "Epoch 45/350\n",
      "35/35 [==============================] - 24s 689ms/step - loss: 0.7552 - accuracy: 0.7332 - val_loss: 0.8362 - val_accuracy: 0.7708\n",
      "\n",
      "Epoch 00045: val_accuracy improved from 0.69792 to 0.77083, saving model to garbage_cnn.h5\n",
      "Epoch 46/350\n",
      "35/35 [==============================] - 24s 687ms/step - loss: 0.6956 - accuracy: 0.7447 - val_loss: 0.8517 - val_accuracy: 0.7083\n",
      "\n",
      "Epoch 00046: val_accuracy did not improve from 0.77083\n",
      "Epoch 47/350\n",
      "35/35 [==============================] - 24s 712ms/step - loss: 0.8870 - accuracy: 0.7062 - val_loss: 0.9897 - val_accuracy: 0.6250\n",
      "\n",
      "Epoch 00047: val_accuracy did not improve from 0.77083\n",
      "Epoch 48/350\n",
      "35/35 [==============================] - 25s 711ms/step - loss: 0.7225 - accuracy: 0.7370 - val_loss: 0.7707 - val_accuracy: 0.7292\n",
      "\n",
      "Epoch 00048: val_accuracy did not improve from 0.77083\n",
      "Epoch 49/350\n",
      "35/35 [==============================] - 25s 708ms/step - loss: 0.6459 - accuracy: 0.7981 - val_loss: 0.7195 - val_accuracy: 0.7604\n",
      "\n",
      "Epoch 00049: val_accuracy did not improve from 0.77083\n",
      "Epoch 50/350\n",
      "35/35 [==============================] - 25s 712ms/step - loss: 0.7543 - accuracy: 0.7475 - val_loss: 0.8316 - val_accuracy: 0.7292\n",
      "\n",
      "Epoch 00050: val_accuracy did not improve from 0.77083\n",
      "Epoch 51/350\n",
      "35/35 [==============================] - 24s 691ms/step - loss: 0.6493 - accuracy: 0.7676 - val_loss: 1.0312 - val_accuracy: 0.6875\n",
      "\n",
      "Epoch 00051: val_accuracy did not improve from 0.77083\n",
      "Epoch 52/350\n",
      "35/35 [==============================] - 25s 711ms/step - loss: 0.6612 - accuracy: 0.7479 - val_loss: 0.9470 - val_accuracy: 0.6458\n",
      "\n",
      "Epoch 00052: val_accuracy did not improve from 0.77083\n",
      "Epoch 53/350\n",
      "35/35 [==============================] - 25s 715ms/step - loss: 0.6569 - accuracy: 0.7797 - val_loss: 1.0597 - val_accuracy: 0.6458\n",
      "\n",
      "Epoch 00053: val_accuracy did not improve from 0.77083\n",
      "Epoch 54/350\n",
      "35/35 [==============================] - 24s 690ms/step - loss: 0.6563 - accuracy: 0.7625 - val_loss: 0.7967 - val_accuracy: 0.6875\n",
      "\n",
      "Epoch 00054: val_accuracy did not improve from 0.77083\n",
      "Epoch 55/350\n",
      "35/35 [==============================] - 25s 711ms/step - loss: 0.6653 - accuracy: 0.7625 - val_loss: 1.1479 - val_accuracy: 0.6771\n",
      "\n",
      "Epoch 00055: val_accuracy did not improve from 0.77083\n",
      "Epoch 56/350\n",
      "35/35 [==============================] - 24s 702ms/step - loss: 0.6871 - accuracy: 0.7514 - val_loss: 0.8410 - val_accuracy: 0.6875\n",
      "\n",
      "Epoch 00056: val_accuracy did not improve from 0.77083\n",
      "Epoch 57/350\n",
      "35/35 [==============================] - 24s 690ms/step - loss: 0.6840 - accuracy: 0.7358 - val_loss: 0.9238 - val_accuracy: 0.6771\n",
      "\n",
      "Epoch 00057: val_accuracy did not improve from 0.77083\n",
      "Epoch 58/350\n",
      "35/35 [==============================] - 25s 703ms/step - loss: 0.6072 - accuracy: 0.7567 - val_loss: 0.8024 - val_accuracy: 0.7083\n",
      "\n",
      "Epoch 00058: val_accuracy did not improve from 0.77083\n",
      "Epoch 59/350\n",
      "35/35 [==============================] - 24s 681ms/step - loss: 0.6744 - accuracy: 0.7345 - val_loss: 1.0640 - val_accuracy: 0.7083\n",
      "\n",
      "Epoch 00059: val_accuracy did not improve from 0.77083\n",
      "Epoch 60/350\n",
      "35/35 [==============================] - 24s 675ms/step - loss: 0.6688 - accuracy: 0.7738 - val_loss: 0.7853 - val_accuracy: 0.6979\n",
      "\n",
      "Epoch 00060: val_accuracy did not improve from 0.77083\n",
      "Epoch 61/350\n",
      "35/35 [==============================] - 24s 697ms/step - loss: 0.5550 - accuracy: 0.7971 - val_loss: 0.7368 - val_accuracy: 0.7292\n",
      "\n",
      "Epoch 00061: val_accuracy did not improve from 0.77083\n",
      "Epoch 62/350\n",
      "35/35 [==============================] - 24s 691ms/step - loss: 0.5655 - accuracy: 0.8182 - val_loss: 0.9072 - val_accuracy: 0.6875\n",
      "\n",
      "Epoch 00062: val_accuracy did not improve from 0.77083\n",
      "Epoch 63/350\n",
      "35/35 [==============================] - 24s 674ms/step - loss: 0.6484 - accuracy: 0.7647 - val_loss: 0.7022 - val_accuracy: 0.7812\n",
      "\n",
      "Epoch 00063: val_accuracy improved from 0.77083 to 0.78125, saving model to garbage_cnn.h5\n",
      "Epoch 64/350\n",
      "35/35 [==============================] - 24s 682ms/step - loss: 0.5970 - accuracy: 0.7925 - val_loss: 0.9298 - val_accuracy: 0.7188\n",
      "\n",
      "Epoch 00064: val_accuracy did not improve from 0.78125\n",
      "Epoch 65/350\n",
      "35/35 [==============================] - 24s 692ms/step - loss: 0.6259 - accuracy: 0.7745 - val_loss: 0.9150 - val_accuracy: 0.7083\n",
      "\n",
      "Epoch 00065: val_accuracy did not improve from 0.78125\n",
      "Epoch 66/350\n",
      "35/35 [==============================] - 24s 682ms/step - loss: 0.5130 - accuracy: 0.8030 - val_loss: 0.9336 - val_accuracy: 0.6875\n",
      "\n",
      "Epoch 00066: val_accuracy did not improve from 0.78125\n",
      "Epoch 67/350\n",
      "35/35 [==============================] - 24s 674ms/step - loss: 0.5879 - accuracy: 0.7814 - val_loss: 0.8278 - val_accuracy: 0.7292\n",
      "\n",
      "Epoch 00067: val_accuracy did not improve from 0.78125\n",
      "Epoch 68/350\n",
      "35/35 [==============================] - 24s 697ms/step - loss: 0.6085 - accuracy: 0.7825 - val_loss: 0.7083 - val_accuracy: 0.7292\n",
      "\n",
      "Epoch 00068: val_accuracy did not improve from 0.78125\n",
      "Epoch 69/350\n",
      "35/35 [==============================] - 24s 671ms/step - loss: 0.6486 - accuracy: 0.7525 - val_loss: 0.7320 - val_accuracy: 0.7396\n",
      "\n",
      "Epoch 00069: val_accuracy did not improve from 0.78125\n",
      "Epoch 70/350\n",
      "35/35 [==============================] - 24s 676ms/step - loss: 0.5067 - accuracy: 0.7955 - val_loss: 0.8011 - val_accuracy: 0.6979\n",
      "\n",
      "Epoch 00070: val_accuracy did not improve from 0.78125\n",
      "Epoch 71/350\n",
      "35/35 [==============================] - 24s 676ms/step - loss: 0.5474 - accuracy: 0.8107 - val_loss: 0.8112 - val_accuracy: 0.7604\n",
      "\n",
      "Epoch 00071: val_accuracy did not improve from 0.78125\n",
      "Epoch 72/350\n",
      "35/35 [==============================] - 24s 698ms/step - loss: 0.5513 - accuracy: 0.7943 - val_loss: 0.8429 - val_accuracy: 0.7083\n",
      "\n",
      "Epoch 00072: val_accuracy did not improve from 0.78125\n",
      "Epoch 73/350\n",
      "35/35 [==============================] - 25s 713ms/step - loss: 0.6307 - accuracy: 0.7798 - val_loss: 0.8021 - val_accuracy: 0.6979\n",
      "\n",
      "Epoch 00073: val_accuracy did not improve from 0.78125\n",
      "Epoch 74/350\n",
      "35/35 [==============================] - 24s 685ms/step - loss: 0.5324 - accuracy: 0.8069 - val_loss: 0.7637 - val_accuracy: 0.7604\n",
      "\n",
      "Epoch 00074: val_accuracy did not improve from 0.78125\n",
      "Epoch 75/350\n",
      "35/35 [==============================] - 24s 693ms/step - loss: 0.5366 - accuracy: 0.7963 - val_loss: 0.7356 - val_accuracy: 0.7396\n",
      "\n",
      "Epoch 00075: val_accuracy did not improve from 0.78125\n",
      "Epoch 76/350\n",
      "35/35 [==============================] - 24s 671ms/step - loss: 0.5332 - accuracy: 0.7882 - val_loss: 0.7630 - val_accuracy: 0.7500\n",
      "\n",
      "Epoch 00076: val_accuracy did not improve from 0.78125\n",
      "Epoch 77/350\n",
      "35/35 [==============================] - 24s 686ms/step - loss: 0.4674 - accuracy: 0.8272 - val_loss: 0.6072 - val_accuracy: 0.8333\n",
      "\n",
      "Epoch 00077: val_accuracy improved from 0.78125 to 0.83333, saving model to garbage_cnn.h5\n",
      "Epoch 78/350\n",
      "35/35 [==============================] - 24s 676ms/step - loss: 0.5269 - accuracy: 0.7949 - val_loss: 0.7415 - val_accuracy: 0.7812\n",
      "\n",
      "Epoch 00078: val_accuracy did not improve from 0.83333\n",
      "Epoch 79/350\n",
      "35/35 [==============================] - 24s 692ms/step - loss: 0.4532 - accuracy: 0.8363 - val_loss: 0.6152 - val_accuracy: 0.7812\n",
      "\n",
      "Epoch 00079: val_accuracy did not improve from 0.83333\n",
      "Epoch 80/350\n",
      "35/35 [==============================] - 23s 667ms/step - loss: 0.4932 - accuracy: 0.8316 - val_loss: 1.0076 - val_accuracy: 0.6771\n",
      "\n",
      "Epoch 00080: val_accuracy did not improve from 0.83333\n",
      "Epoch 81/350\n",
      "35/35 [==============================] - 24s 688ms/step - loss: 0.5891 - accuracy: 0.7812 - val_loss: 0.7336 - val_accuracy: 0.7604\n",
      "\n",
      "Epoch 00081: val_accuracy did not improve from 0.83333\n",
      "Epoch 82/350\n",
      "35/35 [==============================] - 24s 670ms/step - loss: 0.4789 - accuracy: 0.8266 - val_loss: 0.7110 - val_accuracy: 0.7917\n",
      "\n",
      "Epoch 00082: val_accuracy did not improve from 0.83333\n",
      "Epoch 83/350\n",
      "35/35 [==============================] - 24s 682ms/step - loss: 0.4931 - accuracy: 0.8410 - val_loss: 0.7483 - val_accuracy: 0.7812\n",
      "\n",
      "Epoch 00083: val_accuracy did not improve from 0.83333\n",
      "Epoch 84/350\n",
      "35/35 [==============================] - 24s 688ms/step - loss: 0.4396 - accuracy: 0.8514 - val_loss: 0.7684 - val_accuracy: 0.7708\n",
      "\n",
      "Epoch 00084: val_accuracy did not improve from 0.83333\n",
      "Epoch 85/350\n",
      "35/35 [==============================] - 24s 695ms/step - loss: 0.4356 - accuracy: 0.8442 - val_loss: 0.9198 - val_accuracy: 0.7083\n",
      "\n",
      "Epoch 00085: val_accuracy did not improve from 0.83333\n",
      "Epoch 86/350\n",
      "35/35 [==============================] - 24s 676ms/step - loss: 0.5297 - accuracy: 0.8079 - val_loss: 0.7476 - val_accuracy: 0.7708\n",
      "\n",
      "Epoch 00086: val_accuracy did not improve from 0.83333\n",
      "Epoch 87/350\n",
      "35/35 [==============================] - 24s 685ms/step - loss: 0.4653 - accuracy: 0.8199 - val_loss: 0.7734 - val_accuracy: 0.8021\n",
      "\n",
      "Epoch 00087: val_accuracy did not improve from 0.83333\n",
      "Epoch 88/350\n",
      "35/35 [==============================] - 24s 693ms/step - loss: 0.4339 - accuracy: 0.8432 - val_loss: 0.8954 - val_accuracy: 0.6979\n",
      "\n",
      "Epoch 00088: val_accuracy did not improve from 0.83333\n",
      "Epoch 89/350\n",
      "35/35 [==============================] - 25s 704ms/step - loss: 0.5067 - accuracy: 0.8149 - val_loss: 0.6707 - val_accuracy: 0.8125\n",
      "\n",
      "Epoch 00089: val_accuracy did not improve from 0.83333\n",
      "Epoch 90/350\n",
      "35/35 [==============================] - 24s 673ms/step - loss: 0.4256 - accuracy: 0.8482 - val_loss: 0.6553 - val_accuracy: 0.8125\n",
      "\n",
      "Epoch 00090: val_accuracy did not improve from 0.83333\n",
      "Epoch 91/350\n",
      "35/35 [==============================] - 24s 675ms/step - loss: 0.4778 - accuracy: 0.8350 - val_loss: 0.6590 - val_accuracy: 0.8021\n",
      "\n",
      "Epoch 00091: val_accuracy did not improve from 0.83333\n",
      "Epoch 92/350\n",
      "35/35 [==============================] - 24s 680ms/step - loss: 0.4499 - accuracy: 0.8527 - val_loss: 0.6228 - val_accuracy: 0.7708\n",
      "\n",
      "Epoch 00092: val_accuracy did not improve from 0.83333\n",
      "Epoch 00092: early stopping\n"
     ]
    }
   ],
   "source": [
    "history = model.fit_generator(\n",
    "    generator=train_generator, #Eğitim verisi\n",
    "    epochs=num_epoch, #iterasyon sayısı\n",
    "    steps_per_epoch=steps_per_epoch, \n",
    "    validation_data=validation_generator,#Test verisi\n",
    "    validation_steps=validation_steps,\n",
    "    callbacks=callbacks_list#Early stopping ve model checkpoint değerleri\n",
    ")"
   ]
  },
  {
   "cell_type": "markdown",
   "metadata": {
    "id": "GnR1bWGTEAph"
   },
   "source": [
    "## Sonuç Skoru"
   ]
  },
  {
   "cell_type": "code",
   "execution_count": null,
   "metadata": {
    "colab": {
     "base_uri": "https://localhost:8080/"
    },
    "executionInfo": {
     "elapsed": 2944,
     "status": "ok",
     "timestamp": 1617639424968,
     "user": {
      "displayName": "Serhat Turan",
      "photoUrl": "",
      "userId": "15067230728863420434"
     },
     "user_tz": -180
    },
    "id": "3aaFaI8nVowr",
    "outputId": "dcef0492-dbb7-4d75-f57f-0cea91f489fe"
   },
   "outputs": [
    {
     "name": "stdout",
     "output_type": "stream",
     "text": [
      "8/8 [==============================] - 2s 298ms/step - loss: 0.6569 - accuracy: 0.7809\n",
      "Score Accuracy : 78.09%\n"
     ]
    }
   ],
   "source": [
    "score = model.evaluate(validation_generator,batch_size=32)\n",
    "score\n",
    "print('Score Accuracy : {:.2f}%'.format(score[1]*100))"
   ]
  },
  {
   "cell_type": "markdown",
   "metadata": {
    "id": "fCjpE5sMEF9E"
   },
   "source": [
    "## Sonuçların görselleştirilmesi"
   ]
  },
  {
   "cell_type": "code",
   "execution_count": null,
   "metadata": {
    "colab": {
     "base_uri": "https://localhost:8080/",
     "height": 545
    },
    "executionInfo": {
     "elapsed": 1329,
     "status": "ok",
     "timestamp": 1617639480385,
     "user": {
      "displayName": "Serhat Turan",
      "photoUrl": "",
      "userId": "15067230728863420434"
     },
     "user_tz": -180
    },
    "id": "6jHWp5obVslz",
    "outputId": "b3177ea1-1190-4694-c63f-6e350ce52e06"
   },
   "outputs": [
    {
     "data": {
      "image/png": "[encoded data removed]",
      "text/plain": [
       "<Figure size 432x288 with 1 Axes>"
      ]
     },
     "metadata": {
      "needs_background": "light",
      "tags": []
     },
     "output_type": "display_data"
    },
    {
     "data": {
      "image/png": "[encoded data removed]",
      "text/plain": [
       "<Figure size 432x288 with 1 Axes>"
      ]
     },
     "metadata": {
      "needs_background": "light",
      "tags": []
     },
     "output_type": "display_data"
    }
   ],
   "source": [
    "#Eğitim sürecinin görselleştirilmesi\n",
    "\n",
    "import matplotlib.pyplot as plt\n",
    "\n",
    "train_acc = history.history['accuracy']\n",
    "val_acc = history.history['val_accuracy']\n",
    "train_loss = history.history['loss']\n",
    "val_loss = history.history['val_loss']\n",
    "\n",
    "epochs = range(1, len(train_acc) + 1)\n",
    "\n",
    "plt.plot(epochs, train_acc, 'g', label = 'Training accuracy')\n",
    "plt.plot(epochs, val_acc, 'r', label = 'Validation accuracy')\n",
    "plt.title('Training and validation accuracy')\n",
    "plt.legend()\n",
    "\n",
    "plt.figure()\n",
    "\n",
    "plt.plot(epochs, train_loss, 'g', label = 'Training loss')\n",
    "plt.plot(epochs, val_loss, 'r', label = 'Validation loss')\n",
    "plt.title('Training and validation loss')\n",
    "plt.legend()\n",
    "\n",
    "plt.show()"
   ]
  },
  {
   "cell_type": "code",
   "execution_count": null,
   "metadata": {
    "id": "n-zaSWdRVz5m"
   },
   "outputs": [],
   "source": []
  },
  {
   "cell_type": "code",
   "execution_count": null,
   "metadata": {
    "id": "EttNtslPV2pI"
   },
   "outputs": [],
   "source": []
  },
  {
   "cell_type": "code",
   "execution_count": null,
   "metadata": {
    "id": "xuk_oi4wV5nd"
   },
   "outputs": [],
   "source": []
  },
  {
   "cell_type": "code",
   "execution_count": null,
   "metadata": {
    "id": "NGPoAAl_V8Pj"
   },
   "outputs": [],
   "source": []
  },
  {
   "cell_type": "code",
   "execution_count": null,
   "metadata": {
    "id": "w08nrvxnWOeY"
   },
   "outputs": [],
   "source": []
  },
  {
   "cell_type": "code",
   "execution_count": null,
   "metadata": {
    "id": "xlGC4KC3WOyS"
   },
   "outputs": [],
   "source": []
  },
  {
   "cell_type": "code",
   "execution_count": null,
   "metadata": {
    "id": "Q4WcBhfQWPAv"
   },
   "outputs": [],
   "source": []
  }
 ],
 "metadata": {
  "accelerator": "GPU",
  "colab": {
   "authorship_tag": "ABX9TyPgM3+Tf+I8dM6DmELJdIlG",
   "collapsed_sections": [],
   "name": "CopSiniflandirmasiCNN.ipynb",
   "provenance": []
  },
  "kernelspec": {
   "display_name": "Python 3",
   "language": "python",
   "name": "python3"
  },
  "language_info": {
   "codemirror_mode": {
    "name": "ipython",
    "version": 3
   },
   "file_extension": ".py",
   "mimetype": "text/x-python",
   "name": "python",
   "nbconvert_exporter": "python",
   "pygments_lexer": "ipython3",
   "version": "3.8.5"
  }
 },
 "nbformat": 4,
 "nbformat_minor": 1
}
